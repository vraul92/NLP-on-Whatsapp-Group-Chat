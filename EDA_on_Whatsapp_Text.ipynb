{
 "cells": [
  {
   "cell_type": "code",
   "execution_count": 1,
   "metadata": {},
   "outputs": [],
   "source": [
    "import pandas as pd\n",
    "import numpy\n",
    "import matplotlib.pyplot as plt\n",
    "import tensorflow\n",
    "import os\n",
    "import seaborn as sns\n",
    "import re"
   ]
  },
  {
   "cell_type": "code",
   "execution_count": 2,
   "metadata": {},
   "outputs": [],
   "source": [
    "# Check if the input string start with a date format\n",
    "def startsWithDate(s):\n",
    "    '''detecting data and time tokens in the raw line of strings'''\n",
    "    # line = [11/28/17, 11:39:01 AM] Deepa pinni US: video omitted\n",
    "    \n",
    "#     pattern = '^([0-2][0-9]|(3)[0-1])(\\/)(((0)[0-9])|((1)[0-2]))(\\/)(\\d{2}|\\d{4}), ([0-9][0-9]):([0-9][0-9]) -'\n",
    "    pattern = '(\\[)([0-9]*)(\\/)([0-9]*)(\\/)([0-9]*), ([0-9]*):([0-9]*):([0-9]*) (A|P)M(\\])'\n",
    "    result = re.match(pattern, s)\n",
    "    if result:\n",
    "        return True\n",
    "    return False"
   ]
  },
  {
   "cell_type": "code",
   "execution_count": 3,
   "metadata": {},
   "outputs": [],
   "source": [
    "# Check if the input string has Author's Name\n",
    "def startsWithAuthor(s):\n",
    "    # line = 18/06/17, 22:47 - Loki: Why do you have 2 numbers, Banner?\n",
    "    \n",
    "    # Deepa: video omitted\n",
    "    patterns = [\n",
    "        '([\\w]+):',                        # First Name\n",
    "        '([\\w]+[\\s]+[\\w]+):',              # First Name + Last Name\n",
    "        '([\\w]+[\\s]+[\\w]+[\\s]+[\\w]+):',    # First Name + Middle Name + Last Name\n",
    "        '',\n",
    "        '([+]\\d{2} \\d{5} \\d{5}):',         # Mobile Number (India)\n",
    "        '([+]\\d{2} \\d{3} \\d{3} \\d{4}):',   # Mobile Number (US)\n",
    "        '([+]\\d{2} \\d{4} \\d{7}):',         # Mobile Number (Europe)\n",
    "        '(\\w):'\n",
    "    ]\n",
    "    pattern = '^' + '|'.join(patterns)\n",
    "    result = re.match(pattern, s)\n",
    "    if result:\n",
    "        return True\n",
    "    return False"
   ]
  },
  {
   "cell_type": "code",
   "execution_count": 4,
   "metadata": {},
   "outputs": [],
   "source": [
    "# Return all the splits\n",
    "def getDataPoint(line):\n",
    "    \n",
    "    # line = [11/28/17, 11:39:01 AM] Deepa pinni US: video omitted\n",
    "    \n",
    "    splitLine = line.split('] ') # splitLine = [[11/28/17, 11:39:01 AM] Deepa pinni US: video omitted]\n",
    "    \n",
    "    dateTime = splitLine[0].replace('[', '') # dateTime = '[11/28/17, 11:39:01 AM'\n",
    "    \n",
    "    date, time = dateTime.split(', ') # date = '11/28/17'; time = '11:39:01 AM'\n",
    "    \n",
    "    message = ''.join(splitLine[1:]) # message = 'Deepa pinni US: video omitted'\n",
    "#     print(message)\n",
    "    \n",
    "    if startsWithAuthor(message): # True\n",
    "        splitMessage = message.split(': ') # splitMessage = ['Loki', 'Why do you have 2 numbers, Banner?']\n",
    "        author = splitMessage[0] # author = 'Loki'\n",
    "        message = ''.join(splitMessage[1]) # message = 'Why do you have 2 numbers, Banner?'\n",
    "    else:\n",
    "        author = None\n",
    "    return date, time, author, message"
   ]
  },
  {
   "cell_type": "code",
   "execution_count": 5,
   "metadata": {},
   "outputs": [],
   "source": [
    "parsedData = [] # List to keep track of data so it can be used by a Pandas dataframe\n",
    "conversationPath = '/Users/rvupp/Desktop/amma group sentiment analysis/_chat_unicode_ascii.txt' \n",
    "\n",
    "with open(conversationPath, encoding=\"utf-8\") as fp:\n",
    "    fp.readline() # Skipping first line of the file (usually contains information about end-to-end encryption)\n",
    "    \n",
    "    messageBuffer = [] # Buffer to capture intermediate output for multi-line messages\n",
    "    date, time, author = None, None, None # Intermediate variables to keep track of the current message being processed\n",
    "    \n",
    "    while True:\n",
    "        line = fp.readline() \n",
    "        if not line: # Stop reading further if end of file has been reached\n",
    "            break\n",
    "        line = line.strip() # Guarding against erroneous leading and trailing whitespaces\n",
    "        if startsWithDate(line): # If a line starts with a Date Time pattern, then this indicates the beginning of a new message\n",
    "            if len(messageBuffer) > 0: # Check if the message buffer contains characters from previous iterations\n",
    "                parsedData.append([date, time, author, ' '.join(messageBuffer)]) # Save the tokens from the previous message in parsedData\n",
    "            messageBuffer.clear() # Clear the message buffer so that it can be used for the next message\n",
    "            date, time, author, message = getDataPoint(line) # Identify and extract tokens from the line\n",
    "            messageBuffer.append(message) # Append message to buffer\n",
    "        else:\n",
    "            messageBuffer.append(line) # If a line doesn't start with a Date Time pattern, then it is part of a multi-line message. So, just append to buffer\n"
   ]
  },
  {
   "cell_type": "code",
   "execution_count": 6,
   "metadata": {},
   "outputs": [
    {
     "data": {
      "text/plain": [
       "pandas.core.frame.DataFrame"
      ]
     },
     "execution_count": 6,
     "metadata": {},
     "output_type": "execute_result"
    }
   ],
   "source": [
    "df = pd.DataFrame(parsedData, columns=['Date', 'Time', 'Author', 'Text'])\n",
    "type(df)"
   ]
  },
  {
   "cell_type": "code",
   "execution_count": 7,
   "metadata": {},
   "outputs": [
    {
     "data": {
      "text/html": [
       "<div>\n",
       "<style scoped>\n",
       "    .dataframe tbody tr th:only-of-type {\n",
       "        vertical-align: middle;\n",
       "    }\n",
       "\n",
       "    .dataframe tbody tr th {\n",
       "        vertical-align: top;\n",
       "    }\n",
       "\n",
       "    .dataframe thead th {\n",
       "        text-align: right;\n",
       "    }\n",
       "</style>\n",
       "<table border=\"1\" class=\"dataframe\">\n",
       "  <thead>\n",
       "    <tr style=\"text-align: right;\">\n",
       "      <th></th>\n",
       "      <th>Date</th>\n",
       "      <th>Time</th>\n",
       "      <th>Author</th>\n",
       "      <th>Text</th>\n",
       "    </tr>\n",
       "  </thead>\n",
       "  <tbody>\n",
       "    <tr>\n",
       "      <th>0</th>\n",
       "      <td>3/14/15</td>\n",
       "      <td>4:09:33 AM</td>\n",
       "      <td>None</td>\n",
       "      <td>Deepa pinni US created this group</td>\n",
       "    </tr>\n",
       "    <tr>\n",
       "      <th>1</th>\n",
       "      <td>3/14/15</td>\n",
       "      <td>4:09:33 AM</td>\n",
       "      <td>None</td>\n",
       "      <td>You were added</td>\n",
       "    </tr>\n",
       "    <tr>\n",
       "      <th>2</th>\n",
       "      <td>11/28/17</td>\n",
       "      <td>11:39:01 AM</td>\n",
       "      <td>Deepa pinni US</td>\n",
       "      <td>video omitted</td>\n",
       "    </tr>\n",
       "    <tr>\n",
       "      <th>3</th>\n",
       "      <td>11/29/17</td>\n",
       "      <td>1:28:05 AM</td>\n",
       "      <td>Naveen Mama</td>\n",
       "      <td>image omitted</td>\n",
       "    </tr>\n",
       "    <tr>\n",
       "      <th>4</th>\n",
       "      <td>11/29/17</td>\n",
       "      <td>1:28:06 AM</td>\n",
       "      <td>Naveen Mama</td>\n",
       "      <td>image omitted</td>\n",
       "    </tr>\n",
       "    <tr>\n",
       "      <th>...</th>\n",
       "      <td>...</td>\n",
       "      <td>...</td>\n",
       "      <td>...</td>\n",
       "      <td>...</td>\n",
       "    </tr>\n",
       "    <tr>\n",
       "      <th>11268</th>\n",
       "      <td>4/28/20</td>\n",
       "      <td>12:59:49 AM</td>\n",
       "      <td>Nanna</td>\n",
       "      <td>Abbo ! All are mouthwatering .I like  jalebi v...</td>\n",
       "    </tr>\n",
       "    <tr>\n",
       "      <th>11269</th>\n",
       "      <td>4/28/20</td>\n",
       "      <td>3:35:52 AM</td>\n",
       "      <td>Deepa pinni US</td>\n",
       "      <td>Super cuisine skills both Madan and Madhavi......</td>\n",
       "    </tr>\n",
       "    <tr>\n",
       "      <th>11270</th>\n",
       "      <td>4/28/20</td>\n",
       "      <td>3:48:02 AM</td>\n",
       "      <td>Naveen Mama</td>\n",
       "      <td>What about aruna Aunty</td>\n",
       "    </tr>\n",
       "    <tr>\n",
       "      <th>11271</th>\n",
       "      <td>4/28/20</td>\n",
       "      <td>3:49:26 AM</td>\n",
       "      <td>Deepa pinni US</td>\n",
       "      <td>Aruna Aunty all vegetable cooking</td>\n",
       "    </tr>\n",
       "    <tr>\n",
       "      <th>11272</th>\n",
       "      <td>4/28/20</td>\n",
       "      <td>3:49:46 AM</td>\n",
       "      <td>Naveen Mama</td>\n",
       "      <td>All items are looking good</td>\n",
       "    </tr>\n",
       "  </tbody>\n",
       "</table>\n",
       "<p>11273 rows × 4 columns</p>\n",
       "</div>"
      ],
      "text/plain": [
       "           Date         Time          Author  \\\n",
       "0       3/14/15   4:09:33 AM            None   \n",
       "1       3/14/15   4:09:33 AM            None   \n",
       "2      11/28/17  11:39:01 AM  Deepa pinni US   \n",
       "3      11/29/17   1:28:05 AM     Naveen Mama   \n",
       "4      11/29/17   1:28:06 AM     Naveen Mama   \n",
       "...         ...          ...             ...   \n",
       "11268   4/28/20  12:59:49 AM           Nanna   \n",
       "11269   4/28/20   3:35:52 AM  Deepa pinni US   \n",
       "11270   4/28/20   3:48:02 AM     Naveen Mama   \n",
       "11271   4/28/20   3:49:26 AM  Deepa pinni US   \n",
       "11272   4/28/20   3:49:46 AM     Naveen Mama   \n",
       "\n",
       "                                                    Text  \n",
       "0                      Deepa pinni US created this group  \n",
       "1                                         You were added  \n",
       "2                                          video omitted  \n",
       "3                                          image omitted  \n",
       "4                                          image omitted  \n",
       "...                                                  ...  \n",
       "11268  Abbo ! All are mouthwatering .I like  jalebi v...  \n",
       "11269  Super cuisine skills both Madan and Madhavi......  \n",
       "11270                             What about aruna Aunty  \n",
       "11271                  Aruna Aunty all vegetable cooking  \n",
       "11272                         All items are looking good  \n",
       "\n",
       "[11273 rows x 4 columns]"
      ]
     },
     "execution_count": 7,
     "metadata": {},
     "output_type": "execute_result"
    }
   ],
   "source": [
    "df"
   ]
  },
  {
   "cell_type": "code",
   "execution_count": 8,
   "metadata": {},
   "outputs": [
    {
     "name": "stdout",
     "output_type": "stream",
     "text": [
      "Authors:[None 'Deepa pinni US' 'Naveen Mama' 'Madan Anna' 'Sunitha Vadhina'\n",
      " 'Pushpak' 'RV' 'Nagu Whatsapp Lubbock' 'Nanda Peddayya' 'Dilip Mama'\n",
      " 'Nanna' 'Vamsi Babai' 'Sahi' 'JP Peddayya' 'Gayathri Attha'\n",
      " 'Kishore Mama' 'Aruna Peddamma' 'Ammamma' 'Kasturi Peddamma' 'Amma'\n",
      " 'Madhavi Akka' 'Jalaja Peddamma' 'Nikki'], \n",
      "\n",
      "Number of authors:23\n"
     ]
    }
   ],
   "source": [
    "authors = df['Author'].unique()\n",
    "number_of_authors = len(df['Author'].unique())\n",
    "print((\"Authors:{auth}, \\n\\nNumber of authors:{n_auth}\").format(auth=authors, n_auth=number_of_authors))\n"
   ]
  },
  {
   "cell_type": "code",
   "execution_count": 10,
   "metadata": {},
   "outputs": [
    {
     "data": {
      "text/html": [
       "<div>\n",
       "<style scoped>\n",
       "    .dataframe tbody tr th:only-of-type {\n",
       "        vertical-align: middle;\n",
       "    }\n",
       "\n",
       "    .dataframe tbody tr th {\n",
       "        vertical-align: top;\n",
       "    }\n",
       "\n",
       "    .dataframe thead th {\n",
       "        text-align: right;\n",
       "    }\n",
       "</style>\n",
       "<table border=\"1\" class=\"dataframe\">\n",
       "  <thead>\n",
       "    <tr style=\"text-align: right;\">\n",
       "      <th></th>\n",
       "      <th>Date</th>\n",
       "      <th>Time</th>\n",
       "      <th>Author</th>\n",
       "      <th>Text</th>\n",
       "    </tr>\n",
       "  </thead>\n",
       "  <tbody>\n",
       "    <tr>\n",
       "      <th>count</th>\n",
       "      <td>11273</td>\n",
       "      <td>11273</td>\n",
       "      <td>11001</td>\n",
       "      <td>11273</td>\n",
       "    </tr>\n",
       "    <tr>\n",
       "      <th>unique</th>\n",
       "      <td>808</td>\n",
       "      <td>9571</td>\n",
       "      <td>22</td>\n",
       "      <td>4543</td>\n",
       "    </tr>\n",
       "    <tr>\n",
       "      <th>top</th>\n",
       "      <td>4/8/20</td>\n",
       "      <td>7:04:41 PM</td>\n",
       "      <td>Naveen Mama</td>\n",
       "      <td>image omitted</td>\n",
       "    </tr>\n",
       "    <tr>\n",
       "      <th>freq</th>\n",
       "      <td>227</td>\n",
       "      <td>10</td>\n",
       "      <td>1711</td>\n",
       "      <td>4630</td>\n",
       "    </tr>\n",
       "  </tbody>\n",
       "</table>\n",
       "</div>"
      ],
      "text/plain": [
       "          Date        Time       Author           Text\n",
       "count    11273       11273        11001          11273\n",
       "unique     808        9571           22           4543\n",
       "top     4/8/20  7:04:41 PM  Naveen Mama  image omitted\n",
       "freq       227          10         1711           4630"
      ]
     },
     "execution_count": 10,
     "metadata": {},
     "output_type": "execute_result"
    }
   ],
   "source": [
    "df.describe()"
   ]
  },
  {
   "cell_type": "code",
   "execution_count": null,
   "metadata": {},
   "outputs": [],
   "source": [
    "# "
   ]
  },
  {
   "cell_type": "code",
   "execution_count": 88,
   "metadata": {},
   "outputs": [
    {
     "data": {
      "text/plain": [
       "<matplotlib.axes._subplots.AxesSubplot at 0x1a41342a10>"
      ]
     },
     "execution_count": 88,
     "metadata": {},
     "output_type": "execute_result"
    },
    {
     "data": {
      "image/png": "[encoded data removed]",
      "text/plain": [
       "<Figure size 432x288 with 1 Axes>"
      ]
     },
     "metadata": {
      "needs_background": "light"
     },
     "output_type": "display_data"
    }
   ],
   "source": [
    "author_value_counts = df['Author'].value_counts().sort_values(ascending=True) # Number of messages per author\n",
    "top_10_author_value_counts = author_value_counts # Number of messages per author for the top 10 most active authors\n",
    "top_10_author_value_counts.plot.barh() # Plot a bar chart using pandas built-in plotting apis"
   ]
  },
  {
   "cell_type": "code",
   "execution_count": 13,
   "metadata": {},
   "outputs": [
    {
     "data": {
      "text/html": [
       "<div>\n",
       "<style scoped>\n",
       "    .dataframe tbody tr th:only-of-type {\n",
       "        vertical-align: middle;\n",
       "    }\n",
       "\n",
       "    .dataframe tbody tr th {\n",
       "        vertical-align: top;\n",
       "    }\n",
       "\n",
       "    .dataframe thead th {\n",
       "        text-align: right;\n",
       "    }\n",
       "</style>\n",
       "<table border=\"1\" class=\"dataframe\">\n",
       "  <thead>\n",
       "    <tr style=\"text-align: right;\">\n",
       "      <th></th>\n",
       "      <th>Date</th>\n",
       "      <th>Time</th>\n",
       "      <th>Author</th>\n",
       "      <th>Text</th>\n",
       "    </tr>\n",
       "  </thead>\n",
       "  <tbody>\n",
       "    <tr>\n",
       "      <th>0</th>\n",
       "      <td>3/14/15</td>\n",
       "      <td>4:09:33 AM</td>\n",
       "      <td>None</td>\n",
       "      <td>Deepa pinni US created this group</td>\n",
       "    </tr>\n",
       "    <tr>\n",
       "      <th>1</th>\n",
       "      <td>3/14/15</td>\n",
       "      <td>4:09:33 AM</td>\n",
       "      <td>None</td>\n",
       "      <td>You were added</td>\n",
       "    </tr>\n",
       "    <tr>\n",
       "      <th>110</th>\n",
       "      <td>12/5/17</td>\n",
       "      <td>4:07:55 PM</td>\n",
       "      <td>None</td>\n",
       "      <td>âª+91Â 97015Â 84940â¬: ðð»ðð»ðð...</td>\n",
       "    </tr>\n",
       "    <tr>\n",
       "      <th>121</th>\n",
       "      <td>12/13/17</td>\n",
       "      <td>2:04:45 PM</td>\n",
       "      <td>None</td>\n",
       "      <td>Deepa pinni US added Nanna</td>\n",
       "    </tr>\n",
       "    <tr>\n",
       "      <th>126</th>\n",
       "      <td>12/14/17</td>\n",
       "      <td>12:17:31 AM</td>\n",
       "      <td>None</td>\n",
       "      <td>âª+91Â 97015Â 84940â¬: audio omitted</td>\n",
       "    </tr>\n",
       "    <tr>\n",
       "      <th>...</th>\n",
       "      <td>...</td>\n",
       "      <td>...</td>\n",
       "      <td>...</td>\n",
       "      <td>...</td>\n",
       "    </tr>\n",
       "    <tr>\n",
       "      <th>11151</th>\n",
       "      <td>4/23/20</td>\n",
       "      <td>5:45:37 AM</td>\n",
       "      <td>None</td>\n",
       "      <td>âª+91Â 99628Â 46244â¬: Very nice picture Kau...</td>\n",
       "    </tr>\n",
       "    <tr>\n",
       "      <th>11170</th>\n",
       "      <td>4/25/20</td>\n",
       "      <td>2:05:00 AM</td>\n",
       "      <td>None</td>\n",
       "      <td>âª+91Â 99628Â 46244â¬: image omitted</td>\n",
       "    </tr>\n",
       "    <tr>\n",
       "      <th>11176</th>\n",
       "      <td>4/25/20</td>\n",
       "      <td>2:35:44 AM</td>\n",
       "      <td>None</td>\n",
       "      <td>âª+91Â 99628Â 46244â¬: video omitted</td>\n",
       "    </tr>\n",
       "    <tr>\n",
       "      <th>11210</th>\n",
       "      <td>4/25/20</td>\n",
       "      <td>11:54:19 PM</td>\n",
       "      <td>None</td>\n",
       "      <td>âª+91Â 99628Â 46244â¬: video omitted</td>\n",
       "    </tr>\n",
       "    <tr>\n",
       "      <th>11211</th>\n",
       "      <td>4/25/20</td>\n",
       "      <td>11:55:06 PM</td>\n",
       "      <td>None</td>\n",
       "      <td>âª+91Â 99628Â 46244â¬: video omitted</td>\n",
       "    </tr>\n",
       "  </tbody>\n",
       "</table>\n",
       "<p>272 rows × 4 columns</p>\n",
       "</div>"
      ],
      "text/plain": [
       "           Date         Time Author  \\\n",
       "0       3/14/15   4:09:33 AM   None   \n",
       "1       3/14/15   4:09:33 AM   None   \n",
       "110     12/5/17   4:07:55 PM   None   \n",
       "121    12/13/17   2:04:45 PM   None   \n",
       "126    12/14/17  12:17:31 AM   None   \n",
       "...         ...          ...    ...   \n",
       "11151   4/23/20   5:45:37 AM   None   \n",
       "11170   4/25/20   2:05:00 AM   None   \n",
       "11176   4/25/20   2:35:44 AM   None   \n",
       "11210   4/25/20  11:54:19 PM   None   \n",
       "11211   4/25/20  11:55:06 PM   None   \n",
       "\n",
       "                                                    Text  \n",
       "0                      Deepa pinni US created this group  \n",
       "1                                         You were added  \n",
       "110    âª+91Â 97015Â 84940â¬: ðð»ðð»ðð...  \n",
       "121                           Deepa pinni US added Nanna  \n",
       "126               âª+91Â 97015Â 84940â¬: audio omitted  \n",
       "...                                                  ...  \n",
       "11151  âª+91Â 99628Â 46244â¬: Very nice picture Kau...  \n",
       "11170             âª+91Â 99628Â 46244â¬: image omitted  \n",
       "11176             âª+91Â 99628Â 46244â¬: video omitted  \n",
       "11210             âª+91Â 99628Â 46244â¬: video omitted  \n",
       "11211             âª+91Â 99628Â 46244â¬: video omitted  \n",
       "\n",
       "[272 rows x 4 columns]"
      ]
     },
     "execution_count": 13,
     "metadata": {},
     "output_type": "execute_result"
    }
   ],
   "source": [
    "null_authors_df = df[df['Author'].isnull()]\n",
    "null_authors_df"
   ]
  },
  {
   "cell_type": "code",
   "execution_count": 14,
   "metadata": {},
   "outputs": [
    {
     "data": {
      "text/plain": [
       "808"
      ]
     },
     "execution_count": 14,
     "metadata": {},
     "output_type": "execute_result"
    }
   ],
   "source": [
    "len(df['Date'].unique())"
   ]
  },
  {
   "cell_type": "code",
   "execution_count": 47,
   "metadata": {},
   "outputs": [
    {
     "name": "stdout",
     "output_type": "stream",
     "text": [
      "       Date        Time       Author           Text\n",
      "3  11/29/17  1:28:05 AM  Naveen Mama  image omitted\n",
      "4  11/29/17  1:28:06 AM  Naveen Mama  image omitted\n",
      "5  11/29/17  1:28:06 AM  Naveen Mama  image omitted\n",
      "6  11/29/17  1:28:08 AM  Naveen Mama  image omitted\n",
      "7  11/29/17  1:28:10 AM  Naveen Mama  image omitted\n",
      "         Date         Time           Author           Text\n",
      "2    11/28/17  11:39:01 AM   Deepa pinni US  video omitted\n",
      "109   12/5/17   8:38:51 AM  Sunitha Vadhina  video omitted\n",
      "115  12/13/17   7:41:37 AM  Sunitha Vadhina  video omitted\n",
      "116  12/13/17   7:41:38 AM  Sunitha Vadhina  video omitted\n",
      "120  12/13/17   7:48:42 AM      Naveen Mama  video omitted\n",
      "Naveen Mama              965\n",
      "JP Peddayya              774\n",
      "Deepa pinni US           502\n",
      "Nanna                    487\n",
      "Pushpak                  452\n",
      "Amma                     374\n",
      "Nanda Peddayya           196\n",
      "Aruna Peddamma           158\n",
      "Dilip Mama               136\n",
      "Nagu Whatsapp Lubbock    126\n",
      "Name: Author, dtype: int64\n"
     ]
    },
    {
     "data": {
      "text/plain": [
       "<matplotlib.axes._subplots.AxesSubplot at 0x1a42e312d0>"
      ]
     },
     "execution_count": 47,
     "metadata": {},
     "output_type": "execute_result"
    },
    {
     "data": {
      "image/png": "[encoded data removed]",
      "text/plain": [
       "<Figure size 432x288 with 1 Axes>"
      ]
     },
     "metadata": {
      "needs_background": "light"
     },
     "output_type": "display_data"
    }
   ],
   "source": [
    "pic_messages_df = df[df['Text'] == 'image omitted']\n",
    "video_messages_df = df[df['Text'] == 'video omitted']\n",
    "# media_messages_df_videos = df[df['Text'] == 'video omitted']\n",
    "# media_messages_df = media_messages_df_images.add(media_messages_df_videos)\n",
    "print(pic_messages_df.head())\n",
    "print(video_messages_df.head())\n",
    "\n",
    "author_pic_messages_value_counts = pic_messages_df['Author'].value_counts()\n",
    "top_10_author_pic_messages_value_counts = author_pic_messages_value_counts.head(10)\n",
    "# top_10_author_pic_messages_value_counts.plot.barh()\n",
    "print(top_10_author_pic_messages_value_counts.head(10))\n",
    "top_10_author_pic_messages_value_counts.plot.barh()"
   ]
  },
  {
   "cell_type": "code",
   "execution_count": 49,
   "metadata": {},
   "outputs": [
    {
     "name": "stdout",
     "output_type": "stream",
     "text": [
      "JP Peddayya         430\n",
      "Nanna               252\n",
      "Naveen Mama         129\n",
      "Deepa pinni US       88\n",
      "Nanda Peddayya       80\n",
      "Amma                 70\n",
      "Kasturi Peddamma     65\n",
      "Pushpak              45\n",
      "Kishore Mama         38\n",
      "Vamsi Babai          30\n",
      "Name: Author, dtype: int64\n"
     ]
    },
    {
     "data": {
      "text/plain": [
       "<matplotlib.axes._subplots.AxesSubplot at 0x1a428bdc10>"
      ]
     },
     "execution_count": 49,
     "metadata": {},
     "output_type": "execute_result"
    },
    {
     "data": {
      "image/png": "[encoded data removed]",
      "text/plain": [
       "<Figure size 432x288 with 1 Axes>"
      ]
     },
     "metadata": {
      "needs_background": "light"
     },
     "output_type": "display_data"
    }
   ],
   "source": [
    "author_video_messages_value_counts = video_messages_df['Author'].value_counts()\n",
    "top_10_author_video_messages_value_counts = author_video_messages_value_counts.head(10)\n",
    "# top_10_author_video_messages_value_counts.plot.barh()\n",
    "print(top_10_author_video_messages_value_counts.head(10))\n",
    "top_10_author_video_messages_value_counts.plot.barh()"
   ]
  },
  {
   "cell_type": "code",
   "execution_count": 48,
   "metadata": {},
   "outputs": [
    {
     "data": {
      "text/html": [
       "<div>\n",
       "<style scoped>\n",
       "    .dataframe tbody tr th:only-of-type {\n",
       "        vertical-align: middle;\n",
       "    }\n",
       "\n",
       "    .dataframe tbody tr th {\n",
       "        vertical-align: top;\n",
       "    }\n",
       "\n",
       "    .dataframe thead th {\n",
       "        text-align: right;\n",
       "    }\n",
       "</style>\n",
       "<table border=\"1\" class=\"dataframe\">\n",
       "  <thead>\n",
       "    <tr style=\"text-align: right;\">\n",
       "      <th></th>\n",
       "      <th>Date</th>\n",
       "      <th>Time</th>\n",
       "      <th>Author</th>\n",
       "      <th>Text</th>\n",
       "    </tr>\n",
       "  </thead>\n",
       "  <tbody>\n",
       "    <tr>\n",
       "      <th>2</th>\n",
       "      <td>11/28/17</td>\n",
       "      <td>11:39:01 AM</td>\n",
       "      <td>Deepa pinni US</td>\n",
       "      <td>video omitted</td>\n",
       "    </tr>\n",
       "    <tr>\n",
       "      <th>22</th>\n",
       "      <td>11/29/17</td>\n",
       "      <td>2:53:31 AM</td>\n",
       "      <td>Deepa pinni US</td>\n",
       "      <td>Nighty photo super</td>\n",
       "    </tr>\n",
       "    <tr>\n",
       "      <th>34</th>\n",
       "      <td>11/29/17</td>\n",
       "      <td>4:22:15 AM</td>\n",
       "      <td>Madan Anna</td>\n",
       "      <td>ð</td>\n",
       "    </tr>\n",
       "    <tr>\n",
       "      <th>35</th>\n",
       "      <td>11/29/17</td>\n",
       "      <td>7:30:58 AM</td>\n",
       "      <td>Sunitha Vadhina</td>\n",
       "      <td>Nice pics. Congrats Sravani</td>\n",
       "    </tr>\n",
       "    <tr>\n",
       "      <th>62</th>\n",
       "      <td>11/29/17</td>\n",
       "      <td>10:05:05 AM</td>\n",
       "      <td>Pushpak</td>\n",
       "      <td>Abbbabbba</td>\n",
       "    </tr>\n",
       "  </tbody>\n",
       "</table>\n",
       "</div>"
      ],
      "text/plain": [
       "        Date         Time           Author                         Text\n",
       "2   11/28/17  11:39:01 AM   Deepa pinni US                video omitted\n",
       "22  11/29/17   2:53:31 AM   Deepa pinni US           Nighty photo super\n",
       "34  11/29/17   4:22:15 AM       Madan Anna                         ð\n",
       "35  11/29/17   7:30:58 AM  Sunitha Vadhina  Nice pics. Congrats Sravani\n",
       "62  11/29/17  10:05:05 AM          Pushpak                    Abbbabbba"
      ]
     },
     "execution_count": 48,
     "metadata": {},
     "output_type": "execute_result"
    }
   ],
   "source": [
    "messages_df = df.drop(null_authors_df.index) # Drops all rows of the data frame containing messages from null authors\n",
    "messages_df = messages_df.drop(media_messages_df.index) # Drops all rows of the data frame containing media messages\n",
    "messages_df.head()"
   ]
  },
  {
   "cell_type": "code",
   "execution_count": 51,
   "metadata": {},
   "outputs": [],
   "source": [
    "messages_df['Letter_Count'] = messages_df['Text'].apply(lambda s : len(s))\n",
    "messages_df['Word_Count'] = messages_df['Text'].apply(lambda s : len(s.split(' ')))"
   ]
  },
  {
   "cell_type": "code",
   "execution_count": 52,
   "metadata": {},
   "outputs": [
    {
     "data": {
      "text/html": [
       "<div>\n",
       "<style scoped>\n",
       "    .dataframe tbody tr th:only-of-type {\n",
       "        vertical-align: middle;\n",
       "    }\n",
       "\n",
       "    .dataframe tbody tr th {\n",
       "        vertical-align: top;\n",
       "    }\n",
       "\n",
       "    .dataframe thead th {\n",
       "        text-align: right;\n",
       "    }\n",
       "</style>\n",
       "<table border=\"1\" class=\"dataframe\">\n",
       "  <thead>\n",
       "    <tr style=\"text-align: right;\">\n",
       "      <th></th>\n",
       "      <th>Date</th>\n",
       "      <th>Time</th>\n",
       "      <th>Author</th>\n",
       "      <th>Text</th>\n",
       "      <th>Letter_Count</th>\n",
       "      <th>Word_Count</th>\n",
       "    </tr>\n",
       "  </thead>\n",
       "  <tbody>\n",
       "    <tr>\n",
       "      <th>2</th>\n",
       "      <td>11/28/17</td>\n",
       "      <td>11:39:01 AM</td>\n",
       "      <td>Deepa pinni US</td>\n",
       "      <td>video omitted</td>\n",
       "      <td>13</td>\n",
       "      <td>2</td>\n",
       "    </tr>\n",
       "    <tr>\n",
       "      <th>22</th>\n",
       "      <td>11/29/17</td>\n",
       "      <td>2:53:31 AM</td>\n",
       "      <td>Deepa pinni US</td>\n",
       "      <td>Nighty photo super</td>\n",
       "      <td>18</td>\n",
       "      <td>3</td>\n",
       "    </tr>\n",
       "    <tr>\n",
       "      <th>34</th>\n",
       "      <td>11/29/17</td>\n",
       "      <td>4:22:15 AM</td>\n",
       "      <td>Madan Anna</td>\n",
       "      <td>ð</td>\n",
       "      <td>4</td>\n",
       "      <td>1</td>\n",
       "    </tr>\n",
       "    <tr>\n",
       "      <th>35</th>\n",
       "      <td>11/29/17</td>\n",
       "      <td>7:30:58 AM</td>\n",
       "      <td>Sunitha Vadhina</td>\n",
       "      <td>Nice pics. Congrats Sravani</td>\n",
       "      <td>27</td>\n",
       "      <td>4</td>\n",
       "    </tr>\n",
       "    <tr>\n",
       "      <th>62</th>\n",
       "      <td>11/29/17</td>\n",
       "      <td>10:05:05 AM</td>\n",
       "      <td>Pushpak</td>\n",
       "      <td>Abbbabbba</td>\n",
       "      <td>9</td>\n",
       "      <td>1</td>\n",
       "    </tr>\n",
       "  </tbody>\n",
       "</table>\n",
       "</div>"
      ],
      "text/plain": [
       "        Date         Time           Author                         Text  \\\n",
       "2   11/28/17  11:39:01 AM   Deepa pinni US                video omitted   \n",
       "22  11/29/17   2:53:31 AM   Deepa pinni US           Nighty photo super   \n",
       "34  11/29/17   4:22:15 AM       Madan Anna                         ð   \n",
       "35  11/29/17   7:30:58 AM  Sunitha Vadhina  Nice pics. Congrats Sravani   \n",
       "62  11/29/17  10:05:05 AM          Pushpak                    Abbbabbba   \n",
       "\n",
       "    Letter_Count  Word_Count  \n",
       "2             13           2  \n",
       "22            18           3  \n",
       "34             4           1  \n",
       "35            27           4  \n",
       "62             9           1  "
      ]
     },
     "execution_count": 52,
     "metadata": {},
     "output_type": "execute_result"
    }
   ],
   "source": [
    "messages_df.head()"
   ]
  },
  {
   "cell_type": "code",
   "execution_count": 66,
   "metadata": {},
   "outputs": [
    {
     "data": {
      "text/html": [
       "<div>\n",
       "<style scoped>\n",
       "    .dataframe tbody tr th:only-of-type {\n",
       "        vertical-align: middle;\n",
       "    }\n",
       "\n",
       "    .dataframe tbody tr th {\n",
       "        vertical-align: top;\n",
       "    }\n",
       "\n",
       "    .dataframe thead th {\n",
       "        text-align: right;\n",
       "    }\n",
       "</style>\n",
       "<table border=\"1\" class=\"dataframe\">\n",
       "  <thead>\n",
       "    <tr style=\"text-align: right;\">\n",
       "      <th></th>\n",
       "      <th>Date</th>\n",
       "      <th>Time</th>\n",
       "      <th>Author</th>\n",
       "      <th>Text</th>\n",
       "    </tr>\n",
       "  </thead>\n",
       "  <tbody>\n",
       "    <tr>\n",
       "      <th>count</th>\n",
       "      <td>6371</td>\n",
       "      <td>6371</td>\n",
       "      <td>6371</td>\n",
       "      <td>6371</td>\n",
       "    </tr>\n",
       "    <tr>\n",
       "      <th>unique</th>\n",
       "      <td>760</td>\n",
       "      <td>6018</td>\n",
       "      <td>22</td>\n",
       "      <td>4387</td>\n",
       "    </tr>\n",
       "    <tr>\n",
       "      <th>top</th>\n",
       "      <td>4/8/20</td>\n",
       "      <td>7:52:00 AM</td>\n",
       "      <td>Pushpak</td>\n",
       "      <td>video omitted</td>\n",
       "    </tr>\n",
       "    <tr>\n",
       "      <th>freq</th>\n",
       "      <td>201</td>\n",
       "      <td>4</td>\n",
       "      <td>908</td>\n",
       "      <td>1330</td>\n",
       "    </tr>\n",
       "  </tbody>\n",
       "</table>\n",
       "</div>"
      ],
      "text/plain": [
       "          Date        Time   Author           Text\n",
       "count     6371        6371     6371           6371\n",
       "unique     760        6018       22           4387\n",
       "top     4/8/20  7:52:00 AM  Pushpak  video omitted\n",
       "freq       201           4      908           1330"
      ]
     },
     "execution_count": 66,
     "metadata": {},
     "output_type": "execute_result"
    }
   ],
   "source": [
    "discrete_columns = ['Date', 'Time', 'Author', 'Text']\n",
    "messages_df[discrete_columns].describe()"
   ]
  },
  {
   "cell_type": "code",
   "execution_count": 67,
   "metadata": {},
   "outputs": [
    {
     "data": {
      "text/html": [
       "<div>\n",
       "<style scoped>\n",
       "    .dataframe tbody tr th:only-of-type {\n",
       "        vertical-align: middle;\n",
       "    }\n",
       "\n",
       "    .dataframe tbody tr th {\n",
       "        vertical-align: top;\n",
       "    }\n",
       "\n",
       "    .dataframe thead th {\n",
       "        text-align: right;\n",
       "    }\n",
       "</style>\n",
       "<table border=\"1\" class=\"dataframe\">\n",
       "  <thead>\n",
       "    <tr style=\"text-align: right;\">\n",
       "      <th></th>\n",
       "      <th>Letter_Count</th>\n",
       "      <th>Word_Count</th>\n",
       "    </tr>\n",
       "  </thead>\n",
       "  <tbody>\n",
       "    <tr>\n",
       "      <th>count</th>\n",
       "      <td>6371.000000</td>\n",
       "      <td>6371.000000</td>\n",
       "    </tr>\n",
       "    <tr>\n",
       "      <th>mean</th>\n",
       "      <td>120.972689</td>\n",
       "      <td>12.561921</td>\n",
       "    </tr>\n",
       "    <tr>\n",
       "      <th>std</th>\n",
       "      <td>772.150251</td>\n",
       "      <td>59.615171</td>\n",
       "    </tr>\n",
       "    <tr>\n",
       "      <th>min</th>\n",
       "      <td>1.000000</td>\n",
       "      <td>1.000000</td>\n",
       "    </tr>\n",
       "    <tr>\n",
       "      <th>25%</th>\n",
       "      <td>13.000000</td>\n",
       "      <td>2.000000</td>\n",
       "    </tr>\n",
       "    <tr>\n",
       "      <th>50%</th>\n",
       "      <td>19.000000</td>\n",
       "      <td>3.000000</td>\n",
       "    </tr>\n",
       "    <tr>\n",
       "      <th>75%</th>\n",
       "      <td>37.000000</td>\n",
       "      <td>6.000000</td>\n",
       "    </tr>\n",
       "    <tr>\n",
       "      <th>max</th>\n",
       "      <td>26968.000000</td>\n",
       "      <td>1634.000000</td>\n",
       "    </tr>\n",
       "  </tbody>\n",
       "</table>\n",
       "</div>"
      ],
      "text/plain": [
       "       Letter_Count   Word_Count\n",
       "count   6371.000000  6371.000000\n",
       "mean     120.972689    12.561921\n",
       "std      772.150251    59.615171\n",
       "min        1.000000     1.000000\n",
       "25%       13.000000     2.000000\n",
       "50%       19.000000     3.000000\n",
       "75%       37.000000     6.000000\n",
       "max    26968.000000  1634.000000"
      ]
     },
     "execution_count": 67,
     "metadata": {},
     "output_type": "execute_result"
    }
   ],
   "source": [
    "continuous_columns = ['Letter_Count', 'Word_Count']\n",
    "messages_df[continuous_columns].describe()"
   ]
  },
  {
   "cell_type": "code",
   "execution_count": 68,
   "metadata": {},
   "outputs": [
    {
     "data": {
      "text/html": [
       "<div>\n",
       "<style scoped>\n",
       "    .dataframe tbody tr th:only-of-type {\n",
       "        vertical-align: middle;\n",
       "    }\n",
       "\n",
       "    .dataframe tbody tr th {\n",
       "        vertical-align: top;\n",
       "    }\n",
       "\n",
       "    .dataframe thead th {\n",
       "        text-align: right;\n",
       "    }\n",
       "</style>\n",
       "<table border=\"1\" class=\"dataframe\">\n",
       "  <thead>\n",
       "    <tr style=\"text-align: right;\">\n",
       "      <th></th>\n",
       "      <th>Letter_Count</th>\n",
       "      <th>Word_Count</th>\n",
       "    </tr>\n",
       "  </thead>\n",
       "  <tbody>\n",
       "    <tr>\n",
       "      <th>count</th>\n",
       "      <td>6371.000000</td>\n",
       "      <td>6371.000000</td>\n",
       "    </tr>\n",
       "    <tr>\n",
       "      <th>mean</th>\n",
       "      <td>120.972689</td>\n",
       "      <td>12.561921</td>\n",
       "    </tr>\n",
       "    <tr>\n",
       "      <th>std</th>\n",
       "      <td>772.150251</td>\n",
       "      <td>59.615171</td>\n",
       "    </tr>\n",
       "    <tr>\n",
       "      <th>min</th>\n",
       "      <td>1.000000</td>\n",
       "      <td>1.000000</td>\n",
       "    </tr>\n",
       "    <tr>\n",
       "      <th>25%</th>\n",
       "      <td>13.000000</td>\n",
       "      <td>2.000000</td>\n",
       "    </tr>\n",
       "    <tr>\n",
       "      <th>50%</th>\n",
       "      <td>19.000000</td>\n",
       "      <td>3.000000</td>\n",
       "    </tr>\n",
       "    <tr>\n",
       "      <th>75%</th>\n",
       "      <td>37.000000</td>\n",
       "      <td>6.000000</td>\n",
       "    </tr>\n",
       "    <tr>\n",
       "      <th>max</th>\n",
       "      <td>26968.000000</td>\n",
       "      <td>1634.000000</td>\n",
       "    </tr>\n",
       "  </tbody>\n",
       "</table>\n",
       "</div>"
      ],
      "text/plain": [
       "       Letter_Count   Word_Count\n",
       "count   6371.000000  6371.000000\n",
       "mean     120.972689    12.561921\n",
       "std      772.150251    59.615171\n",
       "min        1.000000     1.000000\n",
       "25%       13.000000     2.000000\n",
       "50%       19.000000     3.000000\n",
       "75%       37.000000     6.000000\n",
       "max    26968.000000  1634.000000"
      ]
     },
     "execution_count": 68,
     "metadata": {},
     "output_type": "execute_result"
    }
   ],
   "source": [
    "messages_df.describe()"
   ]
  },
  {
   "cell_type": "code",
   "execution_count": 69,
   "metadata": {},
   "outputs": [
    {
     "data": {
      "text/plain": [
       "(770717, 80032)"
      ]
     },
     "execution_count": 69,
     "metadata": {},
     "output_type": "execute_result"
    }
   ],
   "source": [
    "messages_df['Letter_Count'].sum(), messages_df['Word_Count'].sum()"
   ]
  },
  {
   "cell_type": "code",
   "execution_count": 71,
   "metadata": {},
   "outputs": [
    {
     "data": {
      "text/plain": [
       "Text(0, 0.5, 'Authors')"
      ]
     },
     "execution_count": 71,
     "metadata": {},
     "output_type": "execute_result"
    },
    {
     "data": {
      "image/png": "[encoded data removed]",
      "text/plain": [
       "<Figure size 432x288 with 1 Axes>"
      ]
     },
     "metadata": {
      "needs_background": "light"
     },
     "output_type": "display_data"
    }
   ],
   "source": [
    "# How many words have been sent in total by each author, since the beginning of time?\n",
    "total_word_count_grouped_by_author = messages_df[['Author', 'Word_Count']].groupby('Author').sum()\n",
    "sorted_total_word_count_grouped_by_author = total_word_count_grouped_by_author.sort_values('Word_Count', ascending=False)\n",
    "top_10_sorted_total_word_count_grouped_by_author = sorted_total_word_count_grouped_by_author\n",
    "top_10_sorted_total_word_count_grouped_by_author.plot.barh()\n",
    "plt.xlabel('Number of Words')\n",
    "plt.ylabel('Authors')"
   ]
  },
  {
   "cell_type": "code",
   "execution_count": 72,
   "metadata": {},
   "outputs": [
    {
     "data": {
      "text/plain": [
       "Text(0, 0.5, 'Frequency')"
      ]
     },
     "execution_count": 72,
     "metadata": {},
     "output_type": "execute_result"
    },
    {
     "data": {
      "image/png": "[encoded data removed]",
      "text/plain": [
       "<Figure size 1080x144 with 1 Axes>"
      ]
     },
     "metadata": {
      "needs_background": "light"
     },
     "output_type": "display_data"
    }
   ],
   "source": [
    "# What is the most common number of words in a message?\n",
    "plt.figure(figsize=(15, 2)) # To ensure that the bar plot fits in the output cell of a Jupyter notebook\n",
    "word_count_value_counts = messages_df['Word_Count'].value_counts()\n",
    "top_40_word_count_value_counts = word_count_value_counts.head(40)\n",
    "top_40_word_count_value_counts.plot.bar()\n",
    "plt.xlabel('Word Count')\n",
    "plt.ylabel('Frequency')"
   ]
  },
  {
   "cell_type": "code",
   "execution_count": 74,
   "metadata": {},
   "outputs": [
    {
     "data": {
      "text/plain": [
       "Text(0, 0.5, 'Authors')"
      ]
     },
     "execution_count": 74,
     "metadata": {},
     "output_type": "execute_result"
    },
    {
     "data": {
      "image/png": "[encoded data removed]",
      "text/plain": [
       "<Figure size 432x288 with 1 Axes>"
      ]
     },
     "metadata": {
      "needs_background": "light"
     },
     "output_type": "display_data"
    }
   ],
   "source": [
    "total_letter_count_grouped_by_author = messages_df[['Author', 'Letter_Count']].groupby('Author').sum()\n",
    "sorted_total_letter_count_grouped_by_author = total_letter_count_grouped_by_author.sort_values('Letter_Count', ascending=False)\n",
    "top_10_sorted_total_letter_count_grouped_by_author = sorted_total_letter_count_grouped_by_author\n",
    "top_10_sorted_total_letter_count_grouped_by_author.plot.barh()\n",
    "plt.xlabel('Number of Letters')\n",
    "plt.ylabel('Authors')"
   ]
  },
  {
   "cell_type": "code",
   "execution_count": 75,
   "metadata": {},
   "outputs": [
    {
     "data": {
      "text/plain": [
       "Text(0, 0.5, 'Frequency')"
      ]
     },
     "execution_count": 75,
     "metadata": {},
     "output_type": "execute_result"
    },
    {
     "data": {
      "image/png": "[encoded data removed]",
      "text/plain": [
       "<Figure size 1080x144 with 1 Axes>"
      ]
     },
     "metadata": {
      "needs_background": "light"
     },
     "output_type": "display_data"
    }
   ],
   "source": [
    "plt.figure(figsize=(15, 2))\n",
    "letter_count_value_counts = messages_df['Letter_Count'].value_counts()\n",
    "top_40_letter_count_value_counts = letter_count_value_counts.head(40)\n",
    "top_40_letter_count_value_counts.plot.bar()\n",
    "plt.xlabel('Letter count')\n",
    "plt.ylabel('Frequency')"
   ]
  },
  {
   "cell_type": "code",
   "execution_count": 76,
   "metadata": {},
   "outputs": [
    {
     "data": {
      "text/plain": [
       "Text(0, 0.5, 'Date')"
      ]
     },
     "execution_count": 76,
     "metadata": {},
     "output_type": "execute_result"
    },
    {
     "data": {
      "image/png": "[encoded data removed]",
      "text/plain": [
       "<Figure size 432x288 with 1 Axes>"
      ]
     },
     "metadata": {
      "needs_background": "light"
     },
     "output_type": "display_data"
    }
   ],
   "source": [
    "# On which day where the most number of messages sent\n",
    "messages_df['Date'].value_counts().head(10).plot.barh() # Top 10 Dates on which the most number of messages were sent\n",
    "plt.xlabel('Number of Messages')\n",
    "plt.ylabel('Date')"
   ]
  },
  {
   "cell_type": "code",
   "execution_count": 77,
   "metadata": {},
   "outputs": [
    {
     "data": {
      "text/plain": [
       "Text(0, 0.5, 'Time')"
      ]
     },
     "execution_count": 77,
     "metadata": {},
     "output_type": "execute_result"
    },
    {
     "data": {
      "image/png": "[encoded data removed]",
      "text/plain": [
       "<Figure size 432x288 with 1 Axes>"
      ]
     },
     "metadata": {
      "needs_background": "light"
     },
     "output_type": "display_data"
    }
   ],
   "source": [
    "messages_df['Time'].value_counts().head(10).plot.barh() # Top 10 Times of the day at which the most number of messages were sent\n",
    "plt.xlabel('Number of messages')\n",
    "plt.ylabel('Time')"
   ]
  },
  {
   "cell_type": "code",
   "execution_count": 78,
   "metadata": {},
   "outputs": [
    {
     "data": {
      "text/plain": [
       "Text(0, 0.5, 'Hour of Day')"
      ]
     },
     "execution_count": 78,
     "metadata": {},
     "output_type": "execute_result"
    },
    {
     "data": {
      "image/png": "[encoded data removed]",
      "text/plain": [
       "<Figure size 432x288 with 1 Axes>"
      ]
     },
     "metadata": {
      "needs_background": "light"
     },
     "output_type": "display_data"
    }
   ],
   "source": [
    "messages_df['Hour'] = messages_df['Time'].apply(lambda x : x.split(':')[0]) # The first token of a value in the Time Column contains the hour (Eg., \"20\" in \"20:15\")\n",
    "messages_df['Hour'].value_counts().head(10).sort_index(ascending=False).plot.barh() # Top 10 Hours of the day during which the most number of messages were sent\n",
    "plt.xlabel('Number of messages')\n",
    "plt.ylabel('Hour of Day')"
   ]
  },
  {
   "cell_type": "code",
   "execution_count": 89,
   "metadata": {},
   "outputs": [
    {
     "data": {
      "text/html": [
       "<div>\n",
       "<style scoped>\n",
       "    .dataframe tbody tr th:only-of-type {\n",
       "        vertical-align: middle;\n",
       "    }\n",
       "\n",
       "    .dataframe tbody tr th {\n",
       "        vertical-align: top;\n",
       "    }\n",
       "\n",
       "    .dataframe thead th {\n",
       "        text-align: right;\n",
       "    }\n",
       "</style>\n",
       "<table border=\"1\" class=\"dataframe\">\n",
       "  <thead>\n",
       "    <tr style=\"text-align: right;\">\n",
       "      <th></th>\n",
       "      <th>Date</th>\n",
       "      <th>Time</th>\n",
       "      <th>Author</th>\n",
       "      <th>Text</th>\n",
       "    </tr>\n",
       "  </thead>\n",
       "  <tbody>\n",
       "    <tr>\n",
       "      <th>0</th>\n",
       "      <td>3/14/15</td>\n",
       "      <td>4:09:33 AM</td>\n",
       "      <td>None</td>\n",
       "      <td>Deepa pinni US created this group</td>\n",
       "    </tr>\n",
       "    <tr>\n",
       "      <th>1</th>\n",
       "      <td>3/14/15</td>\n",
       "      <td>4:09:33 AM</td>\n",
       "      <td>None</td>\n",
       "      <td>You were added</td>\n",
       "    </tr>\n",
       "    <tr>\n",
       "      <th>2</th>\n",
       "      <td>11/28/17</td>\n",
       "      <td>11:39:01 AM</td>\n",
       "      <td>Deepa pinni US</td>\n",
       "      <td>video omitted</td>\n",
       "    </tr>\n",
       "    <tr>\n",
       "      <th>3</th>\n",
       "      <td>11/29/17</td>\n",
       "      <td>1:28:05 AM</td>\n",
       "      <td>Naveen Mama</td>\n",
       "      <td>image omitted</td>\n",
       "    </tr>\n",
       "    <tr>\n",
       "      <th>4</th>\n",
       "      <td>11/29/17</td>\n",
       "      <td>1:28:06 AM</td>\n",
       "      <td>Naveen Mama</td>\n",
       "      <td>image omitted</td>\n",
       "    </tr>\n",
       "  </tbody>\n",
       "</table>\n",
       "</div>"
      ],
      "text/plain": [
       "       Date         Time          Author                               Text\n",
       "0   3/14/15   4:09:33 AM            None  Deepa pinni US created this group\n",
       "1   3/14/15   4:09:33 AM            None                     You were added\n",
       "2  11/28/17  11:39:01 AM  Deepa pinni US                      video omitted\n",
       "3  11/29/17   1:28:05 AM     Naveen Mama                      image omitted\n",
       "4  11/29/17   1:28:06 AM     Naveen Mama                      image omitted"
      ]
     },
     "execution_count": 89,
     "metadata": {},
     "output_type": "execute_result"
    }
   ],
   "source": [
    "df.head()"
   ]
  },
  {
   "cell_type": "code",
   "execution_count": 90,
   "metadata": {},
   "outputs": [],
   "source": [
    "df_text = df[['Author', 'Text']]"
   ]
  },
  {
   "cell_type": "code",
   "execution_count": 91,
   "metadata": {},
   "outputs": [
    {
     "data": {
      "text/html": [
       "<div>\n",
       "<style scoped>\n",
       "    .dataframe tbody tr th:only-of-type {\n",
       "        vertical-align: middle;\n",
       "    }\n",
       "\n",
       "    .dataframe tbody tr th {\n",
       "        vertical-align: top;\n",
       "    }\n",
       "\n",
       "    .dataframe thead th {\n",
       "        text-align: right;\n",
       "    }\n",
       "</style>\n",
       "<table border=\"1\" class=\"dataframe\">\n",
       "  <thead>\n",
       "    <tr style=\"text-align: right;\">\n",
       "      <th></th>\n",
       "      <th>Author</th>\n",
       "      <th>Text</th>\n",
       "    </tr>\n",
       "  </thead>\n",
       "  <tbody>\n",
       "    <tr>\n",
       "      <th>0</th>\n",
       "      <td>None</td>\n",
       "      <td>Deepa pinni US created this group</td>\n",
       "    </tr>\n",
       "    <tr>\n",
       "      <th>1</th>\n",
       "      <td>None</td>\n",
       "      <td>You were added</td>\n",
       "    </tr>\n",
       "    <tr>\n",
       "      <th>2</th>\n",
       "      <td>Deepa pinni US</td>\n",
       "      <td>video omitted</td>\n",
       "    </tr>\n",
       "    <tr>\n",
       "      <th>3</th>\n",
       "      <td>Naveen Mama</td>\n",
       "      <td>image omitted</td>\n",
       "    </tr>\n",
       "    <tr>\n",
       "      <th>4</th>\n",
       "      <td>Naveen Mama</td>\n",
       "      <td>image omitted</td>\n",
       "    </tr>\n",
       "  </tbody>\n",
       "</table>\n",
       "</div>"
      ],
      "text/plain": [
       "           Author                               Text\n",
       "0            None  Deepa pinni US created this group\n",
       "1            None                     You were added\n",
       "2  Deepa pinni US                      video omitted\n",
       "3     Naveen Mama                      image omitted\n",
       "4     Naveen Mama                      image omitted"
      ]
     },
     "execution_count": 91,
     "metadata": {},
     "output_type": "execute_result"
    }
   ],
   "source": [
    "df_text.head()"
   ]
  },
  {
   "cell_type": "code",
   "execution_count": 92,
   "metadata": {},
   "outputs": [],
   "source": [
    "df_by_author = df_text.groupby('Author')"
   ]
  },
  {
   "cell_type": "code",
   "execution_count": 105,
   "metadata": {},
   "outputs": [
    {
     "data": {
      "text/html": [
       "<div>\n",
       "<style scoped>\n",
       "    .dataframe tbody tr th:only-of-type {\n",
       "        vertical-align: middle;\n",
       "    }\n",
       "\n",
       "    .dataframe tbody tr th {\n",
       "        vertical-align: top;\n",
       "    }\n",
       "\n",
       "    .dataframe thead tr th {\n",
       "        text-align: left;\n",
       "    }\n",
       "\n",
       "    .dataframe thead tr:last-of-type th {\n",
       "        text-align: right;\n",
       "    }\n",
       "</style>\n",
       "<table border=\"1\" class=\"dataframe\">\n",
       "  <thead>\n",
       "    <tr>\n",
       "      <th></th>\n",
       "      <th colspan=\"4\" halign=\"left\">Text</th>\n",
       "    </tr>\n",
       "    <tr>\n",
       "      <th></th>\n",
       "      <th>count</th>\n",
       "      <th>unique</th>\n",
       "      <th>top</th>\n",
       "      <th>freq</th>\n",
       "    </tr>\n",
       "    <tr>\n",
       "      <th>Author</th>\n",
       "      <th></th>\n",
       "      <th></th>\n",
       "      <th></th>\n",
       "      <th></th>\n",
       "    </tr>\n",
       "  </thead>\n",
       "  <tbody>\n",
       "    <tr>\n",
       "      <th>Amma</th>\n",
       "      <td>579</td>\n",
       "      <td>119</td>\n",
       "      <td>image omitted</td>\n",
       "      <td>374</td>\n",
       "    </tr>\n",
       "    <tr>\n",
       "      <th>Ammamma</th>\n",
       "      <td>183</td>\n",
       "      <td>142</td>\n",
       "      <td>image omitted</td>\n",
       "      <td>27</td>\n",
       "    </tr>\n",
       "    <tr>\n",
       "      <th>Aruna Peddamma</th>\n",
       "      <td>196</td>\n",
       "      <td>27</td>\n",
       "      <td>image omitted</td>\n",
       "      <td>158</td>\n",
       "    </tr>\n",
       "    <tr>\n",
       "      <th>Deepa pinni US</th>\n",
       "      <td>1074</td>\n",
       "      <td>436</td>\n",
       "      <td>image omitted</td>\n",
       "      <td>502</td>\n",
       "    </tr>\n",
       "    <tr>\n",
       "      <th>Dilip Mama</th>\n",
       "      <td>669</td>\n",
       "      <td>474</td>\n",
       "      <td>image omitted</td>\n",
       "      <td>136</td>\n",
       "    </tr>\n",
       "    <tr>\n",
       "      <th>Gayathri Attha</th>\n",
       "      <td>23</td>\n",
       "      <td>20</td>\n",
       "      <td>image omitted</td>\n",
       "      <td>4</td>\n",
       "    </tr>\n",
       "    <tr>\n",
       "      <th>JP Peddayya</th>\n",
       "      <td>1465</td>\n",
       "      <td>244</td>\n",
       "      <td>image omitted</td>\n",
       "      <td>774</td>\n",
       "    </tr>\n",
       "    <tr>\n",
       "      <th>Jalaja Peddamma</th>\n",
       "      <td>2</td>\n",
       "      <td>2</td>\n",
       "      <td>Superdance</td>\n",
       "      <td>1</td>\n",
       "    </tr>\n",
       "    <tr>\n",
       "      <th>Kasturi Peddamma</th>\n",
       "      <td>174</td>\n",
       "      <td>52</td>\n",
       "      <td>video omitted</td>\n",
       "      <td>65</td>\n",
       "    </tr>\n",
       "    <tr>\n",
       "      <th>Kishore Mama</th>\n",
       "      <td>218</td>\n",
       "      <td>109</td>\n",
       "      <td>image omitted</td>\n",
       "      <td>62</td>\n",
       "    </tr>\n",
       "    <tr>\n",
       "      <th>Madan Anna</th>\n",
       "      <td>149</td>\n",
       "      <td>105</td>\n",
       "      <td>video omitted</td>\n",
       "      <td>17</td>\n",
       "    </tr>\n",
       "    <tr>\n",
       "      <th>Madhavi Akka</th>\n",
       "      <td>10</td>\n",
       "      <td>4</td>\n",
       "      <td>image omitted</td>\n",
       "      <td>7</td>\n",
       "    </tr>\n",
       "    <tr>\n",
       "      <th>Nagu Whatsapp Lubbock</th>\n",
       "      <td>410</td>\n",
       "      <td>217</td>\n",
       "      <td>image omitted</td>\n",
       "      <td>126</td>\n",
       "    </tr>\n",
       "    <tr>\n",
       "      <th>Nanda Peddayya</th>\n",
       "      <td>453</td>\n",
       "      <td>168</td>\n",
       "      <td>image omitted</td>\n",
       "      <td>196</td>\n",
       "    </tr>\n",
       "    <tr>\n",
       "      <th>Nanna</th>\n",
       "      <td>1126</td>\n",
       "      <td>383</td>\n",
       "      <td>image omitted</td>\n",
       "      <td>487</td>\n",
       "    </tr>\n",
       "    <tr>\n",
       "      <th>Naveen Mama</th>\n",
       "      <td>1711</td>\n",
       "      <td>552</td>\n",
       "      <td>image omitted</td>\n",
       "      <td>965</td>\n",
       "    </tr>\n",
       "    <tr>\n",
       "      <th>Nikki</th>\n",
       "      <td>240</td>\n",
       "      <td>174</td>\n",
       "      <td>image omitted</td>\n",
       "      <td>29</td>\n",
       "    </tr>\n",
       "    <tr>\n",
       "      <th>Pushpak</th>\n",
       "      <td>1360</td>\n",
       "      <td>829</td>\n",
       "      <td>image omitted</td>\n",
       "      <td>452</td>\n",
       "    </tr>\n",
       "    <tr>\n",
       "      <th>RV</th>\n",
       "      <td>334</td>\n",
       "      <td>253</td>\n",
       "      <td>image omitted</td>\n",
       "      <td>61</td>\n",
       "    </tr>\n",
       "    <tr>\n",
       "      <th>Sahi</th>\n",
       "      <td>172</td>\n",
       "      <td>83</td>\n",
       "      <td>image omitted</td>\n",
       "      <td>69</td>\n",
       "    </tr>\n",
       "    <tr>\n",
       "      <th>Sunitha Vadhina</th>\n",
       "      <td>321</td>\n",
       "      <td>177</td>\n",
       "      <td>image omitted</td>\n",
       "      <td>78</td>\n",
       "    </tr>\n",
       "    <tr>\n",
       "      <th>Vamsi Babai</th>\n",
       "      <td>132</td>\n",
       "      <td>45</td>\n",
       "      <td>image omitted</td>\n",
       "      <td>57</td>\n",
       "    </tr>\n",
       "  </tbody>\n",
       "</table>\n",
       "</div>"
      ],
      "text/plain": [
       "                       Text                           \n",
       "                      count unique            top freq\n",
       "Author                                                \n",
       "Amma                    579    119  image omitted  374\n",
       "Ammamma                 183    142  image omitted   27\n",
       "Aruna Peddamma          196     27  image omitted  158\n",
       "Deepa pinni US         1074    436  image omitted  502\n",
       "Dilip Mama              669    474  image omitted  136\n",
       "Gayathri Attha           23     20  image omitted    4\n",
       "JP Peddayya            1465    244  image omitted  774\n",
       "Jalaja Peddamma           2      2     Superdance    1\n",
       "Kasturi Peddamma        174     52  video omitted   65\n",
       "Kishore Mama            218    109  image omitted   62\n",
       "Madan Anna              149    105  video omitted   17\n",
       "Madhavi Akka             10      4  image omitted    7\n",
       "Nagu Whatsapp Lubbock   410    217  image omitted  126\n",
       "Nanda Peddayya          453    168  image omitted  196\n",
       "Nanna                  1126    383  image omitted  487\n",
       "Naveen Mama            1711    552  image omitted  965\n",
       "Nikki                   240    174  image omitted   29\n",
       "Pushpak                1360    829  image omitted  452\n",
       "RV                      334    253  image omitted   61\n",
       "Sahi                    172     83  image omitted   69\n",
       "Sunitha Vadhina         321    177  image omitted   78\n",
       "Vamsi Babai             132     45  image omitted   57"
      ]
     },
     "execution_count": 105,
     "metadata": {},
     "output_type": "execute_result"
    }
   ],
   "source": [
    "stats = df_by_author.describe()"
   ]
  },
  {
   "cell_type": "code",
   "execution_count": 111,
   "metadata": {},
   "outputs": [
    {
     "data": {
      "text/html": [
       "<div>\n",
       "<style scoped>\n",
       "    .dataframe tbody tr th:only-of-type {\n",
       "        vertical-align: middle;\n",
       "    }\n",
       "\n",
       "    .dataframe tbody tr th {\n",
       "        vertical-align: top;\n",
       "    }\n",
       "\n",
       "    .dataframe thead th {\n",
       "        text-align: right;\n",
       "    }\n",
       "</style>\n",
       "<table border=\"1\" class=\"dataframe\">\n",
       "  <thead>\n",
       "    <tr style=\"text-align: right;\">\n",
       "      <th></th>\n",
       "      <th>Author</th>\n",
       "      <th>Text</th>\n",
       "    </tr>\n",
       "  </thead>\n",
       "  <tbody>\n",
       "    <tr>\n",
       "      <th>0</th>\n",
       "      <td>None</td>\n",
       "      <td>Deepa pinni US created this group</td>\n",
       "    </tr>\n",
       "    <tr>\n",
       "      <th>1</th>\n",
       "      <td>None</td>\n",
       "      <td>You were added</td>\n",
       "    </tr>\n",
       "    <tr>\n",
       "      <th>2</th>\n",
       "      <td>Deepa pinni US</td>\n",
       "      <td>video omitted</td>\n",
       "    </tr>\n",
       "    <tr>\n",
       "      <th>3</th>\n",
       "      <td>Naveen Mama</td>\n",
       "      <td>image omitted</td>\n",
       "    </tr>\n",
       "    <tr>\n",
       "      <th>4</th>\n",
       "      <td>Naveen Mama</td>\n",
       "      <td>image omitted</td>\n",
       "    </tr>\n",
       "    <tr>\n",
       "      <th>...</th>\n",
       "      <td>...</td>\n",
       "      <td>...</td>\n",
       "    </tr>\n",
       "    <tr>\n",
       "      <th>11268</th>\n",
       "      <td>Nanna</td>\n",
       "      <td>Abbo ! All are mouthwatering .I like  jalebi v...</td>\n",
       "    </tr>\n",
       "    <tr>\n",
       "      <th>11269</th>\n",
       "      <td>Deepa pinni US</td>\n",
       "      <td>Super cuisine skills both Madan and Madhavi......</td>\n",
       "    </tr>\n",
       "    <tr>\n",
       "      <th>11270</th>\n",
       "      <td>Naveen Mama</td>\n",
       "      <td>What about aruna Aunty</td>\n",
       "    </tr>\n",
       "    <tr>\n",
       "      <th>11271</th>\n",
       "      <td>Deepa pinni US</td>\n",
       "      <td>Aruna Aunty all vegetable cooking</td>\n",
       "    </tr>\n",
       "    <tr>\n",
       "      <th>11272</th>\n",
       "      <td>Naveen Mama</td>\n",
       "      <td>All items are looking good</td>\n",
       "    </tr>\n",
       "  </tbody>\n",
       "</table>\n",
       "<p>11273 rows × 2 columns</p>\n",
       "</div>"
      ],
      "text/plain": [
       "               Author                                               Text\n",
       "0                None                  Deepa pinni US created this group\n",
       "1                None                                     You were added\n",
       "2      Deepa pinni US                                      video omitted\n",
       "3         Naveen Mama                                      image omitted\n",
       "4         Naveen Mama                                      image omitted\n",
       "...               ...                                                ...\n",
       "11268           Nanna  Abbo ! All are mouthwatering .I like  jalebi v...\n",
       "11269  Deepa pinni US  Super cuisine skills both Madan and Madhavi......\n",
       "11270     Naveen Mama                             What about aruna Aunty\n",
       "11271  Deepa pinni US                  Aruna Aunty all vegetable cooking\n",
       "11272     Naveen Mama                         All items are looking good\n",
       "\n",
       "[11273 rows x 2 columns]"
      ]
     },
     "execution_count": 111,
     "metadata": {},
     "output_type": "execute_result"
    }
   ],
   "source": [
    "df_text"
   ]
  },
  {
   "cell_type": "code",
   "execution_count": 117,
   "metadata": {},
   "outputs": [
    {
     "data": {
      "text/html": [
       "<div>\n",
       "<style scoped>\n",
       "    .dataframe tbody tr th:only-of-type {\n",
       "        vertical-align: middle;\n",
       "    }\n",
       "\n",
       "    .dataframe tbody tr th {\n",
       "        vertical-align: top;\n",
       "    }\n",
       "\n",
       "    .dataframe thead th {\n",
       "        text-align: right;\n",
       "    }\n",
       "</style>\n",
       "<table border=\"1\" class=\"dataframe\">\n",
       "  <thead>\n",
       "    <tr style=\"text-align: right;\">\n",
       "      <th></th>\n",
       "      <th>Author</th>\n",
       "      <th>Text</th>\n",
       "    </tr>\n",
       "  </thead>\n",
       "  <tbody>\n",
       "    <tr>\n",
       "      <th>0</th>\n",
       "      <td>None</td>\n",
       "      <td>Deepa pinni US created this group</td>\n",
       "    </tr>\n",
       "    <tr>\n",
       "      <th>1</th>\n",
       "      <td>None</td>\n",
       "      <td>You were added</td>\n",
       "    </tr>\n",
       "    <tr>\n",
       "      <th>2</th>\n",
       "      <td>Deepa pinni US</td>\n",
       "      <td>video omitted</td>\n",
       "    </tr>\n",
       "    <tr>\n",
       "      <th>3</th>\n",
       "      <td>Naveen Mama</td>\n",
       "      <td>image omitted</td>\n",
       "    </tr>\n",
       "    <tr>\n",
       "      <th>4</th>\n",
       "      <td>Naveen Mama</td>\n",
       "      <td>image omitted</td>\n",
       "    </tr>\n",
       "  </tbody>\n",
       "</table>\n",
       "</div>"
      ],
      "text/plain": [
       "           Author                               Text\n",
       "0            None  Deepa pinni US created this group\n",
       "1            None                     You were added\n",
       "2  Deepa pinni US                      video omitted\n",
       "3     Naveen Mama                      image omitted\n",
       "4     Naveen Mama                      image omitted"
      ]
     },
     "execution_count": 117,
     "metadata": {},
     "output_type": "execute_result"
    }
   ],
   "source": [
    "df_text.head()"
   ]
  },
  {
   "cell_type": "code",
   "execution_count": 118,
   "metadata": {},
   "outputs": [
    {
     "data": {
      "text/plain": [
       "pandas.core.frame.DataFrame"
      ]
     },
     "execution_count": 118,
     "metadata": {},
     "output_type": "execute_result"
    }
   ],
   "source": [
    "type(df_text)"
   ]
  },
  {
   "cell_type": "code",
   "execution_count": 121,
   "metadata": {},
   "outputs": [],
   "source": [
    "abc = df_text['Text'].groupby(df['Author'])\n",
    "# total_salary = df['Salary'].groupby(df['Team'])"
   ]
  },
  {
   "cell_type": "code",
   "execution_count": 122,
   "metadata": {},
   "outputs": [
    {
     "data": {
      "text/plain": [
       "0                       Deepa pinni US created this group\n",
       "1                                          You were added\n",
       "2                                           video omitted\n",
       "3                                           image omitted\n",
       "4                                           image omitted\n",
       "                              ...                        \n",
       "9427                            This message was deleted.\n",
       "9428                                          GIF omitted\n",
       "9659                            This message was deleted.\n",
       "9661                                          GIF omitted\n",
       "9663    Many more happy returns of the day pushpak.god...\n",
       "Name: Text, Length: 112, dtype: object"
      ]
     },
     "execution_count": 122,
     "metadata": {},
     "output_type": "execute_result"
    }
   ],
   "source": [
    "abc.head()"
   ]
  },
  {
   "cell_type": "code",
   "execution_count": 126,
   "metadata": {},
   "outputs": [],
   "source": [
    "abc = df_text.groupby(['Author'])"
   ]
  },
  {
   "cell_type": "code",
   "execution_count": 129,
   "metadata": {},
   "outputs": [
    {
     "name": "stdout",
     "output_type": "stream",
     "text": [
      "Amma\n",
      "      Author           Text\n",
      "5852    Amma  image omitted\n",
      "5884    Amma  image omitted\n",
      "5885    Amma  image omitted\n",
      "5886    Amma  image omitted\n",
      "5887    Amma  image omitted\n",
      "...      ...            ...\n",
      "11252   Amma  image omitted\n",
      "11253   Amma  image omitted\n",
      "11254   Amma  image omitted\n",
      "11255   Amma  video omitted\n",
      "11256   Amma  video omitted\n",
      "\n",
      "[579 rows x 2 columns]\n",
      "Ammamma\n",
      "        Author                                               Text\n",
      "3805   Ammamma                                      image omitted\n",
      "3806   Ammamma                                      image omitted\n",
      "3807   Ammamma                                      image omitted\n",
      "3808   Ammamma                                      image omitted\n",
      "4811   Ammamma                    Happy birthday to you    vi van\n",
      "...        ...                                                ...\n",
      "10979  Ammamma  à°¸à±à°·à±à°à°¿à°à°°à±à°¤à°²à±à°¨ à°¦à°¿...\n",
      "10980  Ammamma  à°à°°à±à°¨à°¾ à°à°°à±à°¨à°¾  à°à° à°à±...\n",
      "10985  Ammamma  à°­à°¾à°°à±à°¯à°¦à± à°",
      "à°¸à°²à±à°¨ à°à°¦à±...\n",
      "11226  Ammamma                                      Super koushik\n",
      "11227  Ammamma                       Ami speshal nanda bommadance\n",
      "\n",
      "[183 rows x 2 columns]\n",
      "Aruna Peddamma\n",
      "               Author                                               Text\n",
      "2458   Aruna Peddamma                                      image omitted\n",
      "2665   Aruna Peddamma                                lahari all the best\n",
      "2691   Aruna Peddamma  Happy vinayaka chaviti to all Amma group membe...\n",
      "2692   Aruna Peddamma  Happy vinayaka chaviti to all Amma group membe...\n",
      "2699   Aruna Peddamma                                      image omitted\n",
      "...               ...                                                ...\n",
      "9837   Aruna Peddamma                   Happy 5th anniversary amma group\n",
      "11054  Aruna Peddamma                                      video omitted\n",
      "11158  Aruna Peddamma                Thank you Ramesh  mama and Anu atta\n",
      "11159  Aruna Peddamma                         Thank you Naveen peddanana\n",
      "11160  Aruna Peddamma               Thank you Kasturi atta and Nago mama\n",
      "\n",
      "[196 rows x 2 columns]\n",
      "Deepa pinni US\n",
      "               Author                                               Text\n",
      "2      Deepa pinni US                                      video omitted\n",
      "22     Deepa pinni US                                 Nighty photo super\n",
      "23     Deepa pinni US                                      image omitted\n",
      "24     Deepa pinni US                                      image omitted\n",
      "25     Deepa pinni US                                      image omitted\n",
      "...               ...                                                ...\n",
      "11166  Deepa pinni US  One coin flat and threw coins on the flat coin...\n",
      "11219  Deepa pinni US                                      image omitted\n",
      "11220  Deepa pinni US                                      image omitted\n",
      "11269  Deepa pinni US  Super cuisine skills both Madan and Madhavi......\n",
      "11271  Deepa pinni US                  Aruna Aunty all vegetable cooking\n",
      "\n",
      "[1074 rows x 2 columns]\n",
      "Dilip Mama\n",
      "           Author                                               Text\n",
      "107    Dilip Mama  Then are they voting for Aaryan @ R K nagar el...\n",
      "170    Dilip Mama                                     Congrats Rahul\n",
      "202    Dilip Mama   Abba Anuakka ki ammai ledani inka feeling undadu\n",
      "213    Dilip Mama            Ammaile inni expressions ichi yedustaru\n",
      "216    Dilip Mama                                Thank you thank you\n",
      "...           ...                                                ...\n",
      "10815  Dilip Mama                      Orike kurchunte alane untundi\n",
      "10903  Dilip Mama                                              Super\n",
      "10933  Dilip Mama                              Happy birthday vivaan\n",
      "11025  Dilip Mama                                  Very good Kaushik\n",
      "11209  Dilip Mama  Dharman videos are about heart warming moral v...\n",
      "\n",
      "[669 rows x 2 columns]\n",
      "Gayathri Attha\n",
      "               Author                                               Text\n",
      "1218   Gayathri Attha                                      image omitted\n",
      "1219   Gayathri Attha                                      image omitted\n",
      "1220   Gayathri Attha                                      image omitted\n",
      "1221   Gayathri Attha                                      image omitted\n",
      "1480   Gayathri Attha                                     Congrats nikil\n",
      "1915   Gayathri Attha                           Happy birthday Rahulð\n",
      "1943   Gayathri Attha                                      audio omitted\n",
      "1949   Gayathri Attha                                      video omitted\n",
      "1962   Gayathri Attha  https://youtu.be/KaGkjcUmCfA link for sachikka...\n",
      "2349   Gayathri Attha                                       Sunny- rainy\n",
      "2974   Gayathri Attha                                         Thanksð\n",
      "2981   Gayathri Attha                       Thank you for the wishesð\n",
      "3490   Gayathri Attha                  Thanks for all the wishesðð\n",
      "4391   Gayathri Attha              Sachikka Happy birthday Pushpak bhava\n",
      "7041   Gayathri Attha                                        Thanku ð\n",
      "7064   Gayathri Attha                         Thanks for the best wishes\n",
      "7065   Gayathri Attha                                               ð\n",
      "7533   Gayathri Attha                                    sticker omitted\n",
      "7754   Gayathri Attha  Congratulations Pushpak Bava.when are you comi...\n",
      "7816   Gayathri Attha    Happy birthday rushitha akka Sachikka and reyan\n",
      "8079   Gayathri Attha                    Thanks for the best wishes ð\n",
      "10938  Gayathri Attha                      Happy birthday Vivaanðð\n",
      "11017  Gayathri Attha                        1,7,13,19kg? 4stones weight\n",
      "JP Peddayya\n",
      "            Author                                               Text\n",
      "766    JP Peddayya                                      video omitted\n",
      "767    JP Peddayya                                      video omitted\n",
      "768    JP Peddayya                                      image omitted\n",
      "769    JP Peddayya                                      image omitted\n",
      "770    JP Peddayya                                      image omitted\n",
      "...            ...                                                ...\n",
      "11114  JP Peddayya                                      video omitted\n",
      "11216  JP Peddayya                                      image omitted\n",
      "11217  JP Peddayya             CHITTOOR to PONNAI Route border closed\n",
      "11218  JP Peddayya                                      image omitted\n",
      "11225  JP Peddayya  à°à°à°¦à±à°°à°¬à°¾à°¬à± à°à°¾à°°à± à°",
      "à°...\n",
      "\n",
      "[1465 rows x 2 columns]\n",
      "Jalaja Peddamma\n",
      "               Author           Text\n",
      "6816  Jalaja Peddamma     Superdance\n",
      "8675  Jalaja Peddamma  image omitted\n",
      "Kasturi Peddamma\n",
      "                 Author                        Text\n",
      "4150   Kasturi Peddamma         Happy birthday nagu\n",
      "5871   Kasturi Peddamma               video omitted\n",
      "5872   Kasturi Peddamma               video omitted\n",
      "6062   Kasturi Peddamma               image omitted\n",
      "6063   Kasturi Peddamma               image omitted\n",
      "...                 ...                         ...\n",
      "11063  Kasturi Peddamma               video omitted\n",
      "11121  Kasturi Peddamma   ðððsuper Kaushik\n",
      "11149  Kasturi Peddamma  Good sanvi keep it up ð\n",
      "11186  Kasturi Peddamma               image omitted\n",
      "11215  Kasturi Peddamma               video omitted\n",
      "\n",
      "[174 rows x 2 columns]\n",
      "Kishore Mama\n",
      "             Author                                               Text\n",
      "2023   Kishore Mama  ðð»ðð»ðð»ðð»congrats atha ...\n",
      "2067   Kishore Mama                                      video omitted\n",
      "2341   Kishore Mama                   Congratulations kodhi.keep it up\n",
      "2409   Kishore Mama  *Eye Test*  See the red circle closely!  If u ...\n",
      "2410   Kishore Mama                                      image omitted\n",
      "...             ...                                                ...\n",
      "10935  Kishore Mama                Happy birthday ð ðð vivaan\n",
      "11039  Kishore Mama                                            , Rekha\n",
      "11059  Kishore Mama                                        GIF omitted\n",
      "11206  Kishore Mama                            Congratulations Koushik\n",
      "11261  Kishore Mama                                      image omitted\n",
      "\n",
      "[218 rows x 2 columns]\n",
      "Madan Anna\n",
      "           Author                                               Text\n",
      "34     Madan Anna                                               ð\n",
      "143    Madan Anna                                               ð\n",
      "148    Madan Anna                                               ð\n",
      "171    Madan Anna                     Congrats rahul ð¨ð¼âð\n",
      "295    Madan Anna                                      video omitted\n",
      "...           ...                                                ...\n",
      "11101  Madan Anna             ð¤£ð¤£cha i missed the easy way then\n",
      "11104  Madan Anna  Oka number pick chesa like 5...only #s like 3,...\n",
      "11105  Madan Anna                             So 43 *7 meet all reqs\n",
      "11106  Madan Anna  10th or inter lo ayithe edo formulas gurtundev...\n",
      "11111  Madan Anna                                               ð\n",
      "\n",
      "[149 rows x 2 columns]\n",
      "Madhavi Akka\n",
      "            Author                                           Text\n",
      "6300  Madhavi Akka                                  audio omitted\n",
      "7864  Madhavi Akka              Thank you all for the wishes ð\n",
      "9124  Madhavi Akka  Thank you all so much for your wishesðð\n",
      "9231  Madhavi Akka                                  image omitted\n",
      "9232  Madhavi Akka                                  image omitted\n",
      "9233  Madhavi Akka                                  image omitted\n",
      "9262  Madhavi Akka                                  image omitted\n",
      "9263  Madhavi Akka                                  image omitted\n",
      "9264  Madhavi Akka                                  image omitted\n",
      "9266  Madhavi Akka                                  image omitted\n",
      "Nagu Whatsapp Lubbock\n",
      "                      Author                                    Text\n",
      "76     Nagu Whatsapp Lubbock                           image omitted\n",
      "77     Nagu Whatsapp Lubbock                           image omitted\n",
      "78     Nagu Whatsapp Lubbock                           image omitted\n",
      "79     Nagu Whatsapp Lubbock                           image omitted\n",
      "80     Nagu Whatsapp Lubbock                           image omitted\n",
      "...                      ...                                     ...\n",
      "10937  Nagu Whatsapp Lubbock                  Happy birthday vivaan.\n",
      "11065  Nagu Whatsapp Lubbock                                    ð\n",
      "11113  Nagu Whatsapp Lubbock  Mana Anna anthe. Chala sharpu le. ð\n",
      "11153  Nagu Whatsapp Lubbock                       Very nice, Sanvi.\n",
      "11156  Nagu Whatsapp Lubbock                                    ð\n",
      "\n",
      "[410 rows x 2 columns]\n",
      "Nanda Peddayya\n",
      "               Author             Text\n",
      "95     Nanda Peddayya    image omitted\n",
      "96     Nanda Peddayya    image omitted\n",
      "177    Nanda Peddayya  cÃ²ngrats rahul\n",
      "180    Nanda Peddayya    image omitted\n",
      "181    Nanda Peddayya    video omitted\n",
      "...               ...              ...\n",
      "11263  Nanda Peddayya    image omitted\n",
      "11264  Nanda Peddayya    image omitted\n",
      "11265  Nanda Peddayya    image omitted\n",
      "11266  Nanda Peddayya    image omitted\n",
      "11267  Nanda Peddayya    image omitted\n",
      "\n",
      "[453 rows x 2 columns]\n",
      "Nanna\n",
      "      Author                                               Text\n",
      "150    Nanna                                      image omitted\n",
      "151    Nanna                                      image omitted\n",
      "152    Nanna                                      image omitted\n",
      "153    Nanna                                      image omitted\n",
      "154    Nanna                                      image omitted\n",
      "...      ...                                                ...\n",
      "11181  Nanna                                      video omitted\n",
      "11189  Nanna                                             Kindal\n",
      "11194  Nanna      Very nice dear,make a file of your drawings .\n",
      "11208  Nanna                                      video omitted\n",
      "11268  Nanna  Abbo ! All are mouthwatering .I like  jalebi v...\n",
      "\n",
      "[1126 rows x 2 columns]\n",
      "Naveen Mama\n",
      "            Author                                               Text\n",
      "3      Naveen Mama                                      image omitted\n",
      "4      Naveen Mama                                      image omitted\n",
      "5      Naveen Mama                                      image omitted\n",
      "6      Naveen Mama                                      image omitted\n",
      "7      Naveen Mama                                      image omitted\n",
      "...            ...                                                ...\n",
      "11214  Naveen Mama                                           ðð\n",
      "11228  Naveen Mama  LOCKDOWN SPECIAL QUIZ.   NO.1  1à°à±à°à°¤à±...\n",
      "11247  Naveen Mama                                      video omitted\n",
      "11270  Naveen Mama                             What about aruna Aunty\n",
      "11272  Naveen Mama                         All items are looking good\n",
      "\n",
      "[1711 rows x 2 columns]\n",
      "Nikki\n",
      "      Author                                               Text\n",
      "9427   Nikki                          This message was deleted.\n",
      "9428   Nikki                                        GIF omitted\n",
      "9659   Nikki                          This message was deleted.\n",
      "9661   Nikki                                        GIF omitted\n",
      "9663   Nikki  Many more happy returns of the day pushpak.god...\n",
      "...      ...                                                ...\n",
      "11245  Nikki                            5.viswamithra told rama\n",
      "11246  Nikki                                  11.rishyasringudu\n",
      "11257  Nikki                                      video omitted\n",
      "11258  Nikki                                      image omitted\n",
      "11259  Nikki  Corona special grilled chicken made by rushi akka\n",
      "\n",
      "[240 rows x 2 columns]\n",
      "Pushpak\n",
      "        Author                                     Text\n",
      "62     Pushpak                                Abbbabbba\n",
      "63     Pushpak           Rojuko pelli rojuko engagement\n",
      "64     Pushpak                  Baaga enjoying annamata\n",
      "83     Pushpak           Vayasu aina vetakaram pola.!!!\n",
      "84     Pushpak               Nagu anna party ahðð¤£\n",
      "...        ...                                      ...\n",
      "11191  Pushpak  Mana ctr lo thappa everu vaadaru daanni\n",
      "11195  Pushpak                         Nice kaushi.ð\n",
      "11204  Pushpak                            video omitted\n",
      "11212  Pushpak             https://youtu.be/LmxlcJFTaYU\n",
      "11213  Pushpak                             ððð¥\n",
      "\n",
      "[1360 rows x 2 columns]\n",
      "RV\n",
      "      Author                                               Text\n",
      "69        RV  is bringing home and unpacking considered home...\n",
      "70        RV            looks delicious though ðð»ðð»\n",
      "72        RV                                               haha\n",
      "73        RV                               atleast i tried ð\n",
      "74        RV                                   oorke pinni ð\n",
      "...      ...                                                ...\n",
      "11087     RV                  true translation endhuk ra manaku\n",
      "11090     RV                         nara naraallo telugu undhi\n",
      "11103     RV                                           ðð\n",
      "11162     RV  adhe paristiti peddhayya! sanitizer lu vadi va...\n",
      "11163     RV                                   *ollu illu rendu\n",
      "\n",
      "[334 rows x 2 columns]\n",
      "Sahi\n",
      "      Author                         Text\n",
      "624     Sahi  Happy anniversary pinnið\n",
      "1153    Sahi                      Lolð\n",
      "1737    Sahi   Happy birthday Lahari ð\n",
      "1871    Sahi            Malleswaram konda\n",
      "1945    Sahi    Happy birthday Pinni ð\n",
      "...      ...                          ...\n",
      "10789   Sahi                         ð¤£\n",
      "10814   Sahi                      Lolð\n",
      "10930   Sahi    Happy birthday Vivan ð\n",
      "11098   Sahi                         ð\n",
      "11200   Sahi                 Very nice :)\n",
      "\n",
      "[172 rows x 2 columns]\n",
      "Sunitha Vadhina\n",
      "                Author                              Text\n",
      "35     Sunitha Vadhina       Nice pics. Congrats Sravani\n",
      "75     Sunitha Vadhina                             Yummy\n",
      "109    Sunitha Vadhina                     video omitted\n",
      "115    Sunitha Vadhina                     video omitted\n",
      "116    Sunitha Vadhina                     video omitted\n",
      "...                ...                               ...\n",
      "10793  Sunitha Vadhina                          ð¤£ð¤£\n",
      "10904  Sunitha Vadhina                     Good job Toni\n",
      "10941  Sunitha Vadhina  Thank you everyone - from vivaan\n",
      "10942  Sunitha Vadhina                              ð\n",
      "10943  Sunitha Vadhina                       ð thanks\n",
      "\n",
      "[321 rows x 2 columns]\n",
      "Vamsi Babai\n",
      "            Author                                               Text\n",
      "364    Vamsi Babai                                      image omitted\n",
      "374    Vamsi Babai  Yes. But it will be difficult to get this bill...\n",
      "656    Vamsi Babai                                      video omitted\n",
      "746    Vamsi Babai                                      video omitted\n",
      "799    Vamsi Babai                       https://youtu.be/za06yybUXfU\n",
      "...            ...                                                ...\n",
      "10121  Vamsi Babai                                      video omitted\n",
      "10416  Vamsi Babai                                      video omitted\n",
      "10694  Vamsi Babai                How does a stimulation package work\n",
      "11028  Vamsi Babai  Harvard university is offering 67 courses for ...\n",
      "11167  Vamsi Babai                                      video omitted\n",
      "\n",
      "[132 rows x 2 columns]\n"
     ]
    }
   ],
   "source": [
    "for auth, txt in abc:\n",
    "    print(auth)\n",
    "    print(txt)"
   ]
  },
  {
   "cell_type": "code",
   "execution_count": 144,
   "metadata": {},
   "outputs": [],
   "source": [
    "mad = abc.get_group('Madan Anna')\n",
    "raw_mad_tokens = [mad['Text']]\n",
    "\n",
    "dil = abc.get_group('Dilip Mama')\n",
    "raw_dil_tokens = [dil['Text']]\n",
    "\n",
    "sun = abc.get_group('Sunitha Vadhina')\n",
    "raw_sun_tokens = [sun['Text']]\n",
    "\n",
    "gay = abc.get_group('Gayathri Attha')\n",
    "raw_gay_tokens = [gay['Text']]\n",
    "\n",
    "nav = abc.get_group('Naveen Mama')\n",
    "raw_nav_tokens = [nav['Text']]\n",
    "\n",
    "nik = abc.get_group('Nikki')\n",
    "raw_nik_tokens = [nik['Text']]\n",
    "\n",
    "nap = abc.get_group('Nanda Peddayya')\n",
    "raw_nap_tokens = [nap['Text']]\n",
    "\n",
    "amm = abc.get_group('Amma')\n",
    "raw_amm_tokens = [amm['Text']]\n",
    "\n",
    "mmm = abc.get_group('Ammamma')\n",
    "raw_mmm_tokens = [mmm['Text']]\n",
    "\n",
    "nan = abc.get_group('Nanna')\n",
    "raw_nan_tokens = [nan['Text']]\n",
    "\n",
    "pus = abc.get_group('Pushpak')\n",
    "raw_pus_tokens = [pus['Text']]\n",
    "\n",
    "sah = abc.get_group('Sahi')\n",
    "raw_sah_tokens = [sah['Text']]\n",
    "\n",
    "nag = abc.get_group('Nagu Whatsapp Lubbock')\n",
    "raw_nag_tokens = [nag['Text']]\n",
    "\n",
    "kas = abc.get_group('Kasturi Peddamma')\n",
    "raw_kas_tokens = [kas['Text']]\n",
    "\n",
    "jpp = abc.get_group('JP Peddayya')\n",
    "raw_jpp_tokens = [jpp['Text']]\n",
    "\n",
    "jal = abc.get_group('Jalaja Peddamma')\n",
    "raw_jal_tokens = [jal['Text']]\n",
    "\n",
    "mdh = abc.get_group('Madhavi Akka')\n",
    "raw_mdh_tokens = [mdh['Text']]\n",
    "\n",
    "aru = abc.get_group('Aruna Peddamma')\n",
    "raw_aru_tokens = [aru['Text']]\n",
    "\n",
    "rah = abc.get_group('RV')\n",
    "raw_rah_tokens = [rah['Text']]\n",
    "\n",
    "vam = abc.get_group('Vamsi Babai')\n",
    "raw_vam_tokens = [vam['Text']]\n",
    "\n",
    "dee = abc.get_group('Deepa pinni US')\n",
    "raw_dee_tokens = [dee['Text']]\n",
    "\n",
    "kis = abc.get_group('Kishore Mama')\n",
    "raw_kis_tokens = [kis['Text']]\n",
    "\n",
    "\n"
   ]
  },
  {
   "cell_type": "code",
   "execution_count": 147,
   "metadata": {},
   "outputs": [],
   "source": [
    "raw_tokens = {\"Madan\":raw_mad_tokens,\n",
    "              \"Sunitha\":raw_sun_tokens,\n",
    "              \"Nanda\":raw_nap_tokens,\n",
    "              \"Aruna\":raw_aru_tokens,\n",
    "              \"Madhavi\":raw_mdh_tokens,\n",
    "              \"Kishore\":raw_kis_tokens,\n",
    "              \"Naveen\":raw_nav_tokens,\n",
    "              \"Nikki\":raw_nik_tokens,\n",
    "              \"Anu\":raw_amm_tokens,\n",
    "              \"Ramesh\":raw_nan_tokens,\n",
    "              \"Pushpak\":raw_pus_tokens,\n",
    "              \"Deepa\":raw_dee_tokens,\n",
    "              \"Vamsi\":raw_vam_tokens,\n",
    "              \"Dilip\":raw_dil_tokens,\n",
    "              \"Gayathri\":raw_gay_tokens,\n",
    "              \"Nagu\":raw_nag_tokens,\n",
    "              \"Sahi\":raw_sah_tokens,\n",
    "              \"Kasturi\":raw_kas_tokens,\n",
    "              \"JP\":raw_jpp_tokens,\n",
    "              \"Jalaja\":raw_jal_tokens,\n",
    "              \"Saraswati\":raw_mmm_tokens,\n",
    "              \"Rahul\":raw_rah_tokens\n",
    "             }"
   ]
  },
  {
   "cell_type": "code",
   "execution_count": 151,
   "metadata": {},
   "outputs": [
    {
     "data": {
      "text/plain": [
       "[69       is bringing home and unpacking considered home...\n",
       " 70                 looks delicious though ðð»ðð»\n",
       " 72                                                    haha\n",
       " 73                                    atleast i tried ð\n",
       " 74                                        oorke pinni ð\n",
       "                                ...                        \n",
       " 11087                    true translation endhuk ra manaku\n",
       " 11090                           nara naraallo telugu undhi\n",
       " 11103                                             ðð\n",
       " 11162    adhe paristiti peddhayya! sanitizer lu vadi va...\n",
       " 11163                                     *ollu illu rendu\n",
       " Name: Text, Length: 334, dtype: object]"
      ]
     },
     "execution_count": 151,
     "metadata": {},
     "output_type": "execute_result"
    }
   ],
   "source": [
    "raw_tokens.get('Rahul')"
   ]
  }
 ],
 "metadata": {
  "kernelspec": {
   "display_name": "Python 3",
   "language": "python",
   "name": "python3"
  },
  "language_info": {
   "codemirror_mode": {
    "name": "ipython",
    "version": 3
   },
   "file_extension": ".py",
   "mimetype": "text/x-python",
   "name": "python",
   "nbconvert_exporter": "python",
   "pygments_lexer": "ipython3",
   "version": "3.7.6"
  }
 },
 "nbformat": 4,
 "nbformat_minor": 4
}
